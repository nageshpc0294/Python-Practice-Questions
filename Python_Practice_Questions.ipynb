{
  "nbformat": 4,
  "nbformat_minor": 0,
  "metadata": {
    "colab": {
      "provenance": []
    },
    "kernelspec": {
      "name": "python3",
      "display_name": "Python 3"
    },
    "language_info": {
      "name": "python"
    }
  },
  "cells": [
    {
      "cell_type": "markdown",
      "source": [
        "1. Write a function that inputs a number and prints the multiplication table of that number\n",
        "\n",
        "\n",
        "\n"
      ],
      "metadata": {
        "id": "jZdJ5ij69xTc"
      }
    },
    {
      "cell_type": "markdown",
      "source": [
        "2. Write a program to print twin primes less than 1000. If two consecutive odd numbers are both primes then they are known as twin primes"
      ],
      "metadata": {
        "id": "tae5cAHZ9vbP"
      }
    },
    {
      "cell_type": "markdown",
      "source": [
        "3. Write a program to find out the prime factors of a number Example prime factors of 56"
      ],
      "metadata": {
        "id": "fT01kWB_G6cH"
      }
    },
    {
      "cell_type": "markdown",
      "source": [
        "4. Write a program to implement these formulae of permutations and combinations Number of permutations of n objects taken rat a time p(n,r)=nl/(n-r) Number of combinations of n objects taken r at a time is c(n,r)=nl/(r\"(n-r)) = p(n,r)/rl"
      ],
      "metadata": {
        "id": "BAoHUmUWR0tc"
      }
    },
    {
      "cell_type": "markdown",
      "source": [
        "5. Write a function that converts a decimal number to a binary number\n",
        "\n",
        "\n"
      ],
      "metadata": {
        "id": "l_ipLUPzWHVa"
      }
    },
    {
      "cell_type": "markdown",
      "source": [
        "6. Write a function cubesum() that accepts an integer and returns the sum of the cubes of individual digits of that number. Use this function to make functions PrintArmstring() and is Armstrong() to print Armstrong numbers and to find whether is an Armstrong number"
      ],
      "metadata": {
        "id": "J44aG8kL7HQS"
      }
    },
    {
      "cell_type": "markdown",
      "source": [
        "7. Write a function prodDigits() that inputs a number and returns the product of digits of that number."
      ],
      "metadata": {
        "id": "FEJyCCeyYWdB"
      }
    },
    {
      "cell_type": "markdown",
      "source": [
        "8. If all digits of a number n are multiplied by each other repeating with the product, the one digit number obtained at last iscalled the multiplicative digital root of n. The number of times digits need to be multiplied to reach one digit is called themultiplicative persistence of n Example 86-> 48-> 326 (MDR 6, MPersistence 3) 341-12->2 (MDR 2, MPersistence 2) Using the function prodDigits() of previous exercise write functions MDR() and MPersistence() that input a number and returnits multiplicative digital root and multiplicative persistence respectively\n",
        "\n",
        "\n"
      ],
      "metadata": {
        "id": "PiDMDhl-sy9x"
      }
    },
    {
      "cell_type": "markdown",
      "source": [
        "9. Write a function sumPdivisors() that finds the sum of proper divisors of a number Proper divisors of a number are thosenumbers by which the number is divisible, except the number itself. For example proper divisors of 36 are 1, 2, 3, 4, 6, 9, 18"
      ],
      "metadata": {
        "id": "WhJKInQUtv9q"
      }
    },
    {
      "cell_type": "markdown",
      "source": [
        "10. A number is called perfect if the sum of proper divisors of that number is equal to the number For example 28 is the perfect number, since 1+2+4+7+14-28 Write a program to print all the perfect numbers in a given range"
      ],
      "metadata": {
        "id": "pWtTyBb6xGlr"
      }
    },
    {
      "cell_type": "markdown",
      "source": [
        "11. Two different numbers are called amicable numbers if the sum of the proper divisors of each is equal to the other number Forexample 220 and 284 are amicable numbers\n",
        "ere to search\n",
        "Sum of proper divisors of 220= 1+2+4+5+10+11+20+22+44+55+110 284 Surn of proper divisors of 284-1+2+4+71+142=220Write a function to print pairs of amicable numbers in a range"
      ],
      "metadata": {
        "id": "s2NimpJysZ68"
      }
    },
    {
      "cell_type": "markdown",
      "source": [
        "12. Write a program which can filter odd numbers in a list by using filter function"
      ],
      "metadata": {
        "id": "NTyAhVot2bvp"
      }
    },
    {
      "cell_type": "markdown",
      "source": [
        "13. Write a program which can map() to make a list whose elements are cube of elements in a given list"
      ],
      "metadata": {
        "id": "ZWf_xj-jMx9p"
      }
    },
    {
      "cell_type": "markdown",
      "source": [
        "14. Write a program which can map and filter to make a list whose elements are cube of even number in a given list"
      ],
      "metadata": {
        "id": "xine6T-zT_aj"
      }
    }
  ]
}