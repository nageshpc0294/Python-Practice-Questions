{
  "nbformat": 4,
  "nbformat_minor": 0,
  "metadata": {
    "colab": {
      "provenance": []
    },
    "kernelspec": {
      "name": "python3",
      "display_name": "Python 3"
    },
    "language_info": {
      "name": "python"
    }
  },
  "cells": [
    {
      "cell_type": "markdown",
      "source": [
        "1. Write a function that inputs a number and prints the multiplication table of that number\n",
        "\n",
        "\n",
        "\n"
      ],
      "metadata": {
        "id": "jZdJ5ij69xTc"
      }
    },
    {
      "cell_type": "code",
      "source": [
        "num = int(input('Enter a number:'))\n",
        "\n",
        "for i in range(1,11):\n",
        "  b = num * i\n",
        "  print('{} x {} = {}'.format(num,i,b))"
      ],
      "metadata": {
        "colab": {
          "base_uri": "https://localhost:8080/"
        },
        "id": "O-H_MfoGxOM1",
        "outputId": "978de57e-8797-489a-dc3e-ffd6fed1326d"
      },
      "execution_count": null,
      "outputs": [
        {
          "output_type": "stream",
          "name": "stdout",
          "text": [
            "Enter a number:45\n",
            "45 x 1 = 45\n",
            "45 x 2 = 90\n",
            "45 x 3 = 135\n",
            "45 x 4 = 180\n",
            "45 x 5 = 225\n",
            "45 x 6 = 270\n",
            "45 x 7 = 315\n",
            "45 x 8 = 360\n",
            "45 x 9 = 405\n",
            "45 x 10 = 450\n"
          ]
        }
      ]
    },
    {
      "cell_type": "markdown",
      "source": [
        "2. Write a program to print twin primes less than 1000. If two consecutive odd numbers are both primes then they are known as twin primes"
      ],
      "metadata": {
        "id": "tae5cAHZ9vbP"
      }
    },
    {
      "cell_type": "code",
      "source": [
        "def check_prime(num):\n",
        "  '''This funstion finds the number is prime or not'''\n",
        "  prime = False\n",
        "  for i in range(3,num):\n",
        "    if num % i == 0:\n",
        "      prime = True\n",
        "  if not prime:\n",
        "    print(num)\n",
        "  return prime\n",
        "\n",
        "for i in range(1000):\n",
        "  if i % 2 != 0:\n",
        "    if check_prime(i):\n",
        "      if check_prime(i+2):\n",
        "        print(i, i+2)"
      ],
      "metadata": {
        "colab": {
          "base_uri": "https://localhost:8080/"
        },
        "id": "XH8Samd5zI9B",
        "outputId": "87909e86-353c-45ad-f1a8-c72ce9806ee8"
      },
      "execution_count": null,
      "outputs": [
        {
          "output_type": "stream",
          "name": "stdout",
          "text": [
            "1\n",
            "3\n",
            "5\n",
            "7\n",
            "11\n",
            "11\n",
            "13\n",
            "17\n",
            "17\n",
            "19\n",
            "23\n",
            "23\n",
            "25 27\n",
            "29\n",
            "29\n",
            "31\n",
            "33 35\n",
            "37\n",
            "37\n",
            "41\n",
            "41\n",
            "43\n",
            "47\n",
            "47\n",
            "49 51\n",
            "53\n",
            "53\n",
            "55 57\n",
            "59\n",
            "59\n",
            "61\n",
            "63 65\n",
            "67\n",
            "67\n",
            "71\n",
            "71\n",
            "73\n",
            "75 77\n",
            "79\n",
            "79\n",
            "83\n",
            "83\n",
            "85 87\n",
            "89\n",
            "89\n",
            "91 93\n",
            "93 95\n",
            "97\n",
            "97\n",
            "101\n",
            "101\n",
            "103\n",
            "107\n",
            "107\n",
            "109\n",
            "113\n",
            "113\n",
            "115 117\n",
            "117 119\n",
            "119 121\n",
            "121 123\n",
            "123 125\n",
            "127\n",
            "127\n",
            "131\n",
            "131\n",
            "133 135\n",
            "137\n",
            "137\n",
            "139\n",
            "141 143\n",
            "143 145\n",
            "145 147\n",
            "149\n",
            "149\n",
            "151\n",
            "153 155\n",
            "157\n",
            "157\n",
            "159 161\n",
            "163\n",
            "163\n",
            "167\n",
            "167\n",
            "169 171\n",
            "173\n",
            "173\n",
            "175 177\n",
            "179\n",
            "179\n",
            "181\n",
            "183 185\n",
            "185 187\n",
            "187 189\n",
            "191\n",
            "191\n",
            "193\n",
            "197\n",
            "197\n",
            "199\n",
            "201 203\n",
            "203 205\n",
            "205 207\n",
            "207 209\n",
            "211\n",
            "211\n",
            "213 215\n",
            "215 217\n",
            "217 219\n",
            "219 221\n",
            "223\n",
            "223\n",
            "227\n",
            "227\n",
            "229\n",
            "233\n",
            "233\n",
            "235 237\n",
            "239\n",
            "239\n",
            "241\n",
            "243 245\n",
            "245 247\n",
            "247 249\n",
            "251\n",
            "251\n",
            "253 255\n",
            "257\n",
            "257\n",
            "259 261\n",
            "263\n",
            "263\n",
            "265 267\n",
            "269\n",
            "269\n",
            "271\n",
            "273 275\n",
            "277\n",
            "277\n",
            "281\n",
            "281\n",
            "283\n",
            "285 287\n",
            "287 289\n",
            "289 291\n",
            "293\n",
            "293\n",
            "295 297\n",
            "297 299\n",
            "299 301\n",
            "301 303\n",
            "303 305\n",
            "307\n",
            "307\n",
            "311\n",
            "311\n",
            "313\n",
            "317\n",
            "317\n",
            "319 321\n",
            "321 323\n",
            "323 325\n",
            "325 327\n",
            "327 329\n",
            "331\n",
            "331\n",
            "333 335\n",
            "337\n",
            "337\n",
            "339 341\n",
            "341 343\n",
            "343 345\n",
            "347\n",
            "347\n",
            "349\n",
            "353\n",
            "353\n",
            "355 357\n",
            "359\n",
            "359\n",
            "361 363\n",
            "363 365\n",
            "367\n",
            "367\n",
            "369 371\n",
            "373\n",
            "373\n",
            "375 377\n",
            "379\n",
            "379\n",
            "383\n",
            "383\n",
            "385 387\n",
            "389\n",
            "389\n",
            "391 393\n",
            "393 395\n",
            "397\n",
            "397\n",
            "401\n",
            "401\n",
            "403 405\n",
            "405 407\n",
            "409\n",
            "409\n",
            "411 413\n",
            "413 415\n",
            "415 417\n",
            "419\n",
            "419\n",
            "421\n",
            "423 425\n",
            "425 427\n",
            "427 429\n",
            "431\n",
            "431\n",
            "433\n",
            "435 437\n",
            "439\n",
            "439\n",
            "443\n",
            "443\n",
            "445 447\n",
            "449\n",
            "449\n",
            "451 453\n",
            "453 455\n",
            "457\n",
            "457\n",
            "461\n",
            "461\n",
            "463\n",
            "467\n",
            "467\n",
            "469 471\n",
            "471 473\n",
            "473 475\n",
            "475 477\n",
            "479\n",
            "479\n",
            "481 483\n",
            "483 485\n",
            "487\n",
            "487\n",
            "491\n",
            "491\n",
            "493 495\n",
            "495 497\n",
            "499\n",
            "499\n",
            "503\n",
            "503\n",
            "505 507\n",
            "509\n",
            "509\n",
            "511 513\n",
            "513 515\n",
            "515 517\n",
            "517 519\n",
            "521\n",
            "521\n",
            "523\n",
            "525 527\n",
            "527 529\n",
            "529 531\n",
            "531 533\n",
            "533 535\n",
            "535 537\n",
            "537 539\n",
            "541\n",
            "541\n",
            "543 545\n",
            "547\n",
            "547\n",
            "549 551\n",
            "551 553\n",
            "553 555\n",
            "557\n",
            "557\n",
            "559 561\n",
            "563\n",
            "563\n",
            "565 567\n",
            "569\n",
            "569\n",
            "571\n",
            "573 575\n",
            "577\n",
            "577\n",
            "579 581\n",
            "581 583\n",
            "583 585\n",
            "587\n",
            "587\n",
            "589 591\n",
            "593\n",
            "593\n",
            "595 597\n",
            "599\n",
            "599\n",
            "601\n",
            "603 605\n",
            "607\n",
            "607\n",
            "609 611\n",
            "613\n",
            "613\n",
            "617\n",
            "617\n",
            "619\n",
            "621 623\n",
            "623 625\n",
            "625 627\n",
            "627 629\n",
            "631\n",
            "631\n",
            "633 635\n",
            "635 637\n",
            "637 639\n",
            "641\n",
            "641\n",
            "643\n",
            "647\n",
            "647\n",
            "649 651\n",
            "653\n",
            "653\n",
            "655 657\n",
            "659\n",
            "659\n",
            "661\n",
            "663 665\n",
            "665 667\n",
            "667 669\n",
            "669 671\n",
            "673\n",
            "673\n",
            "677\n",
            "677\n",
            "679 681\n",
            "683\n",
            "683\n",
            "685 687\n",
            "687 689\n",
            "691\n",
            "691\n",
            "693 695\n",
            "695 697\n",
            "697 699\n",
            "701\n",
            "701\n",
            "703 705\n",
            "705 707\n",
            "709\n",
            "709\n",
            "711 713\n",
            "713 715\n",
            "715 717\n",
            "719\n",
            "719\n",
            "721 723\n",
            "723 725\n",
            "727\n",
            "727\n",
            "729 731\n",
            "733\n",
            "733\n",
            "735 737\n",
            "739\n",
            "739\n",
            "743\n",
            "743\n",
            "745 747\n",
            "747 749\n",
            "751\n",
            "751\n",
            "753 755\n",
            "757\n",
            "757\n",
            "761\n",
            "761\n",
            "763 765\n",
            "765 767\n",
            "769\n",
            "769\n",
            "773\n",
            "773\n",
            "775 777\n",
            "777 779\n",
            "779 781\n",
            "781 783\n",
            "783 785\n",
            "787\n",
            "787\n",
            "789 791\n",
            "791 793\n",
            "793 795\n",
            "797\n",
            "797\n",
            "799 801\n",
            "801 803\n",
            "803 805\n",
            "805 807\n",
            "809\n",
            "809\n",
            "811\n",
            "813 815\n",
            "815 817\n",
            "817 819\n",
            "821\n",
            "821\n",
            "823\n",
            "827\n",
            "827\n",
            "829\n",
            "831 833\n",
            "833 835\n",
            "835 837\n",
            "839\n",
            "839\n",
            "841 843\n",
            "843 845\n",
            "845 847\n",
            "847 849\n",
            "849 851\n",
            "853\n",
            "853\n",
            "857\n",
            "857\n",
            "859\n",
            "863\n",
            "863\n",
            "865 867\n",
            "867 869\n",
            "869 871\n",
            "871 873\n",
            "873 875\n",
            "877\n",
            "877\n",
            "881\n",
            "881\n",
            "883\n",
            "887\n",
            "887\n",
            "889 891\n",
            "891 893\n",
            "893 895\n",
            "895 897\n",
            "897 899\n",
            "899 901\n",
            "901 903\n",
            "903 905\n",
            "907\n",
            "907\n",
            "911\n",
            "911\n",
            "913 915\n",
            "915 917\n",
            "919\n",
            "919\n",
            "921 923\n",
            "923 925\n",
            "925 927\n",
            "929\n",
            "929\n",
            "931 933\n",
            "933 935\n",
            "937\n",
            "937\n",
            "941\n",
            "941\n",
            "943 945\n",
            "947\n",
            "947\n",
            "949 951\n",
            "953\n",
            "953\n",
            "955 957\n",
            "957 959\n",
            "959 961\n",
            "961 963\n",
            "963 965\n",
            "967\n",
            "967\n",
            "971\n",
            "971\n",
            "973 975\n",
            "977\n",
            "977\n",
            "979 981\n",
            "983\n",
            "983\n",
            "985 987\n",
            "987 989\n",
            "991\n",
            "991\n",
            "993 995\n",
            "997\n",
            "997\n",
            "999 1001\n"
          ]
        }
      ]
    },
    {
      "cell_type": "markdown",
      "source": [
        "3. Write a program to find out the prime factors of a number Example prime factors of 56"
      ],
      "metadata": {
        "id": "fT01kWB_G6cH"
      }
    },
    {
      "cell_type": "code",
      "source": [
        "#Enter the integer number\n",
        "pri = int(input(\"Enter a number : \"))\n",
        "\n",
        "#Find the prime number\n",
        "prime = list()\n",
        "for num in range(2,int(pri/2)+1): #finding the primes 1/2 times the entered number\n",
        "  isprime = True\n",
        "  for index in range(2,num):\n",
        "      if num % index == 0:\n",
        "        isprime = False       \n",
        "  if isprime:\n",
        "    prime.append(num) #adding the number in list\n",
        "\n",
        "def factors(a,i):\n",
        "  '''\n",
        "  This function finds the prime factors\n",
        "  '''\n",
        "  if a % i == 0:\n",
        "    factor.append(i) #appending the factor to the list\n",
        "    factors(int(a/i),i) #recursion function\n",
        "  return factor\n",
        "    \n",
        "#Creating empty factor list\n",
        "factor = list()\n",
        "\n",
        "#finding the factors of the given number\n",
        "for i in prime:\n",
        "  factors(pri,i)\n",
        "\n",
        "#printing the factors \n",
        "print('Prime factors of a number -> ' + str(pri))\n",
        "\n",
        "if not factor: #checking for prime factors\n",
        "  print(\"No prime factor are available\")\n",
        "else:\n",
        "  for i in factor:\n",
        "    print(i, end = ' ')\n"
      ],
      "metadata": {
        "colab": {
          "base_uri": "https://localhost:8080/"
        },
        "id": "FqTdDPZVHO64",
        "outputId": "aa34134e-ed5b-462f-eab8-2b85abd74936"
      },
      "execution_count": null,
      "outputs": [
        {
          "output_type": "stream",
          "name": "stdout",
          "text": [
            "Enter a number : 56\n",
            "Prime factors of a number -> 56\n",
            "2 2 2 7 "
          ]
        }
      ]
    },
    {
      "cell_type": "markdown",
      "source": [
        "4. Write a program to implement these formulae of permutations and combinations Number of permutations of n objects taken rat a time p(n,r)=nl/(n-r) Number of combinations of n objects taken r at a time is c(n,r)=nl/(r\"(n-r)) = p(n,r)/rl"
      ],
      "metadata": {
        "id": "BAoHUmUWR0tc"
      }
    },
    {
      "cell_type": "code",
      "source": [
        "#code intuition from applied ai classes\n",
        "def factorial(a):\n",
        "  ''' \n",
        "  This funaction prints the factorial of a number\n",
        "  '''\n",
        "  return 1 if a == 1 else (a * factorial(a-1)) #recursion function \n",
        "\n",
        "#inputing the objects and number of times selections\n",
        "n = int(input('Enter the number of objects : '))\n",
        "r = int(input('Enter the number of times : '))\n",
        "\n",
        "if n != 0 and r != 0: #to check zeros in the input\n",
        "  if n > r:\n",
        "    permutation = factorial(n) / factorial(n-r) #formula for permutation \n",
        "    combination = permutation / factorial(r) #formula for combination\n",
        "    print(\"The permutation of \" + str(n) + \" objects taken \" + str(r) + \" at a time is: \" + str(permutation))\n",
        "    print(\"The combination of \" + str(n) + \" objects taken \" + str(r) + \" at a time is: \" + str(combination))\n",
        "  else:\n",
        "    print(\"The number of object need to be more than the times to compute combination and permutation\")\n",
        "else:\n",
        "  print(\"The number of object and times cannot be zero\")"
      ],
      "metadata": {
        "colab": {
          "base_uri": "https://localhost:8080/"
        },
        "id": "5M0GvDVVS6cQ",
        "outputId": "b0dea0c7-58e0-4820-e5d0-1dee6c104a4d"
      },
      "execution_count": null,
      "outputs": [
        {
          "output_type": "stream",
          "name": "stdout",
          "text": [
            "Enter the number of objects : 10\n",
            "Enter the number of times : 3\n",
            "The permutation of 10 objects taken 3 at a time is: 720.0\n",
            "The combination of 10 objects taken 3 at a time is: 120.0\n"
          ]
        }
      ]
    },
    {
      "cell_type": "markdown",
      "source": [
        "5. Write a function that converts a decimal number to a binary number\n",
        "\n",
        "\n"
      ],
      "metadata": {
        "id": "l_ipLUPzWHVa"
      }
    },
    {
      "cell_type": "code",
      "source": [
        "#creating binary function\n",
        "def binary_number(a):\n",
        "  '''\n",
        "  This function converts decimal to binary\n",
        "  '''\n",
        "  if a > 0:\n",
        "    if a % 2 == 0:\n",
        "      binary.append(0) #appending 0 if the number is divisible by 2\n",
        "    else:\n",
        "      binary.append(1) #appening 1 if the number is not divisible by 2\n",
        "    binary_number(int(a/2)) #recursion function\n",
        "  return a\n",
        "\n",
        "#empty list is created \n",
        "binary = list()\n",
        "\n",
        "#number entering\n",
        "bin_num = int(input(\"Enter a number: \"))\n",
        "\n",
        "#calling binary function\n",
        "binary_number(bin_num)\n",
        "\n",
        "#reverse the list binary\n",
        "binary.reverse()\n",
        "\n",
        "#printing the binary number\n",
        "print(\"The binary number of a given decimal numeber -> \" + str(bin_num))\n",
        "for i in binary:\n",
        "  print(i, end = \" \")"
      ],
      "metadata": {
        "colab": {
          "base_uri": "https://localhost:8080/"
        },
        "id": "3RSDlgaoWVJ1",
        "outputId": "85e0c4a7-4a08-454d-a3d0-b2e49e5fa3b6"
      },
      "execution_count": null,
      "outputs": [
        {
          "output_type": "stream",
          "name": "stdout",
          "text": [
            "Enter a number: 13\n",
            "The binary number of a given decimal numeber -> 13\n",
            "1 1 0 1 "
          ]
        }
      ]
    },
    {
      "cell_type": "markdown",
      "source": [
        "Q6 Write a function cubesum() that accepts an integer and returns the sum of the cubes of individual digits of that number. Use this function to make functions PrintArmstring() and is Armstrong() to print Armstrong numbers and to find whether is an Armstrong number"
      ],
      "metadata": {
        "id": "J44aG8kL7HQS"
      }
    },
    {
      "cell_type": "code",
      "source": [
        "def cubesum(a):\n",
        "  '''\n",
        "  This function returns the sum of the cubes of individual digits of a number\n",
        "  '''\n",
        "  #separat each digit of the entered number\n",
        "  if a > 0:\n",
        "    cube.append((a % 10)**3) #cubing and append the digit\n",
        "    cubesum(int(a/10))  #recursion function\n",
        "  sum = 0\n",
        "  for i in cube: #summing the cube digits\n",
        "    sum += i\n",
        "  return sum\n",
        "\n",
        "def isArmstrong(a):\n",
        "  '''\n",
        "  This function checks a number is armstrong or not\n",
        "  '''\n",
        "  cube.clear()\n",
        "  if a == cubesum(a): \n",
        "    return (\"Armstrong\")\n",
        "  else:\n",
        "    return (\"not Armstrong\")\n",
        "\n",
        "def printarmstrong(a):\n",
        "  '''\n",
        "  This function prints Armstrong number\n",
        "  '''\n",
        "  print(\"The given number is\", isArmstrong(a))\n",
        " \n",
        "#empty list creation\n",
        "cube = list()\n",
        "\n",
        "#inputing the number\n",
        "num = int(input(\"Enter the number : \"))\n",
        "\n",
        "#calling the function\n",
        "print(\"The cubesum of the given number \" + str(num) + \" is \" + str(cubesum(num)))\n",
        "printarmstrong(num)"
      ],
      "metadata": {
        "colab": {
          "base_uri": "https://localhost:8080/"
        },
        "id": "-GaTsQBe8owF",
        "outputId": "839e2333-65eb-4c6d-8d69-d53c9263f945"
      },
      "execution_count": null,
      "outputs": [
        {
          "output_type": "stream",
          "name": "stdout",
          "text": [
            "Enter the number : 153\n",
            "The cubesum of the given number 153 is 153\n",
            "The given number is Armstrong\n"
          ]
        }
      ]
    },
    {
      "cell_type": "markdown",
      "source": [
        "7 Write a function prodDigits() that inputs a number and returns the product of digits of that number."
      ],
      "metadata": {
        "id": "FEJyCCeyYWdB"
      }
    },
    {
      "cell_type": "code",
      "source": [
        "def prodDigits(a):\n",
        "  '''\n",
        "  This function prints the product of the number\n",
        "  '''\n",
        "  #separating each digits in the entered number and placing it in the list\n",
        "  if a > 0:\n",
        "    lst_1.append(a % 10) #appending the digits into list\n",
        "    prodDigits(int(a/10)) #recursion\n",
        "  \n",
        "  #multiplying all the elements of the list\n",
        "  product = 1\n",
        "  for x in lst_1:\n",
        "   product *= x\n",
        "  return product\n",
        "\n",
        "#empty list creation\n",
        "lst_1 = list()\n",
        "\n",
        "#input the number\n",
        "num = int(input(\"Enter the number : \"))\n",
        "\n",
        "#print the product of digits of the entered number\n",
        "print(\"Product of the numeber : \" , prodDigits(num))"
      ],
      "metadata": {
        "colab": {
          "base_uri": "https://localhost:8080/"
        },
        "id": "6XXmujDcZaP6",
        "outputId": "044ee414-d940-47da-cd26-d890348b682b"
      },
      "execution_count": null,
      "outputs": [
        {
          "output_type": "stream",
          "name": "stdout",
          "text": [
            "Enter the number : 56\n",
            "Product of the numeber :  30\n"
          ]
        }
      ]
    },
    {
      "cell_type": "markdown",
      "source": [
        "8. If all digits of a number n are multiplied by each other repeating with the product, the one digit number obtained at last iscalled the multiplicative digital root of n. The number of times digits need to be multiplied to reach one digit is called themultiplicative persistence of n Example 86-> 48-> 326 (MDR 6, MPersistence 3) 341-12->2 (MDR 2, MPersistence 2) Using the function prodDigits() of previous exercise write functions MDR() and MPersistence() that input a number and returnits multiplicative digital root and multiplicative persistence respectively\n",
        "\n",
        "\n"
      ],
      "metadata": {
        "id": "PiDMDhl-sy9x"
      }
    },
    {
      "cell_type": "code",
      "source": [
        "def prodDigits(a):\n",
        "  '''\n",
        "  This function returns the product of the number\n",
        "  '''\n",
        "  #separating each digits in the entered number and placing it in the list\n",
        "  if a > 0:\n",
        "    lst_2.append(a % 10)\n",
        "    prodDigits(int(a/10))\n",
        "  \n",
        "  #multiplying all the elements of the list\n",
        "  product = 1\n",
        "  for x in lst_2:\n",
        "   product *= x\n",
        "  return product\n",
        "\n",
        "def MDR(a):\n",
        "  '''\n",
        "  This function finds multiplicative digital root\n",
        "  '''\n",
        "  while a > 9:\n",
        "    lst_2.clear()\n",
        "    MPersistence() #calling multiplicative persistence function \n",
        "    a = prodDigits(a) #recursion\n",
        "  return a\n",
        "\n",
        "def MPersistence():\n",
        "  '''\n",
        "  This function finds multiplicative persistence\n",
        "  '''\n",
        "  number.append(1)\n",
        "  \n",
        "#list creations \n",
        "lst_2 = list()\n",
        "number = list()\n",
        "\n",
        "#entering the input\n",
        "new = int(input(\"Enter the number : \"))\n",
        "\n",
        "#printingmultiplicative digital root and multiplicative persistence\n",
        "print(\"The multiplicative digital root of \" + str(new) +\" is \" + str( MDR(new)))\n",
        "print(\"The multiplicative persistence of \" + str(new) + \" is \" + str(len(number)))"
      ],
      "metadata": {
        "id": "hrRXkGHcs-s2",
        "colab": {
          "base_uri": "https://localhost:8080/"
        },
        "outputId": "0b895bf8-43a6-4eb4-9859-ed5dea1c7446"
      },
      "execution_count": null,
      "outputs": [
        {
          "output_type": "stream",
          "name": "stdout",
          "text": [
            "Enter the number : 83\n",
            "The multiplicative digital root of 83 is 8\n",
            "The multiplicative persistence of 83 is 2\n"
          ]
        }
      ]
    },
    {
      "cell_type": "markdown",
      "source": [
        "9 Write a function sumPdivisors() that finds the sum of proper divisors of a number Proper divisors of a number are thosenumbers by which the number is divisible, except the number itself. For example proper divisors of 36 are 1, 2, 3, 4, 6, 9, 18"
      ],
      "metadata": {
        "id": "WhJKInQUtv9q"
      }
    },
    {
      "cell_type": "code",
      "source": [
        "def sumPdivisors(a):\n",
        "  ''' \n",
        "  This function finds the proper divisors of number and sums up\n",
        "  '''\n",
        "  #finding the divisors\n",
        "  for i in range(1,a):\n",
        "    if a % i == 0:\n",
        "      divisors.append(i) #recursion\n",
        "  \n",
        "  #summing all the divisors\n",
        "  sum = 0\n",
        "  for i in divisors:\n",
        "    sum += i\n",
        "  return sum  \n",
        "  \n",
        "#creating the empty list\n",
        "divisors = list()\n",
        "\n",
        "#entering the input\n",
        "num = int(input(\"Enter a number : \"))    \n",
        "\n",
        "#printing the sum of proper divisors\n",
        "print(sumPdivisors(num))"
      ],
      "metadata": {
        "colab": {
          "base_uri": "https://localhost:8080/"
        },
        "id": "QBfzYN91uIdm",
        "outputId": "c44199b1-cb36-4cff-ed88-340ad5c5fb4f"
      },
      "execution_count": null,
      "outputs": [
        {
          "output_type": "stream",
          "name": "stdout",
          "text": [
            "Enter a number : 85\n",
            "23\n"
          ]
        }
      ]
    },
    {
      "cell_type": "markdown",
      "source": [
        "10 A number is called perfect if the sum of proper divisors of that number is equal to the number For example 28 is the perfect number, since 1+2+4+7+14-28 Write a program to print all the perfect numbers in a given range"
      ],
      "metadata": {
        "id": "pWtTyBb6xGlr"
      }
    },
    {
      "cell_type": "code",
      "source": [
        "def perfect_number(a):\n",
        "  ''' \n",
        "  This function finds the proper divisors of number and sums up\n",
        "  '''\n",
        "  #empty list creation\n",
        "  divisors_1 = list()\n",
        "\n",
        "  #finding the divisors\n",
        "  for i in range(1,a):\n",
        "    if a % i == 0:\n",
        "      divisors_1.append(i)\n",
        "\n",
        "  #summing all the divisors\n",
        "  sum_1 = 0\n",
        "  for i in divisors_1:\n",
        "    sum_1 += i\n",
        "  if sum_1 == a:\n",
        "    return a\n",
        "\n",
        "#entering the range\n",
        "num = int(input(\"Enter a range : \"))\n",
        "\n",
        "#printing the perfect numbers in the given range\n",
        "print(\"The perfect number in the range of \" + str(num) + \" are\")\n",
        "for i in range(1,num):\n",
        "  if i == perfect_number(i):\n",
        "    print(i, end = \" \")\n"
      ],
      "metadata": {
        "colab": {
          "base_uri": "https://localhost:8080/"
        },
        "id": "2k799B3VxiOb",
        "outputId": "713a9326-fc8f-415b-bba9-fadb128c37db"
      },
      "execution_count": null,
      "outputs": [
        {
          "output_type": "stream",
          "name": "stdout",
          "text": [
            "Enter a range : 10000\n",
            "The perfect number in the range of 10000 are\n",
            "6 28 496 8128 "
          ]
        }
      ]
    },
    {
      "cell_type": "markdown",
      "source": [
        "11 Two different numbers are called amicable numbers if the sum of the proper divisors of each is equal to the other number Forexample 220 and 284 are amicable numbers\n",
        "ere to search\n",
        "Sum of proper divisors of 220= 1+2+4+5+10+11+20+22+44+55+110 284 Surn of proper divisors of 284-1+2+4+71+142=220Write a function to print pairs of amicable numbers in a range"
      ],
      "metadata": {
        "id": "s2NimpJysZ68"
      }
    },
    {
      "cell_type": "code",
      "source": [
        "def sumPdivisors(a):\n",
        "  ''' \n",
        "  This function finds the proper divisors of number and sums up\n",
        "  '''\n",
        "  #finding the divisors\n",
        "  for i in range(1,a):\n",
        "    if a % i == 0:\n",
        "      divisors_1.append(i)\n",
        "  \n",
        "  #summing all the divisors\n",
        "  sum = 0\n",
        "  for i in divisors_1:\n",
        "    sum += i\n",
        "  return sum  \n",
        "\n",
        "def amicable(a):\n",
        "  '''\n",
        "  This function checks amicability of a number\n",
        "  '''\n",
        "  b = sumPdivisors(a) #calling the divisors functions\n",
        "  divisors_1.clear() #clearing the list\n",
        "  c = sumPdivisors(b)\n",
        "  divisors_1.clear()\n",
        "\n",
        "  #clearing the ami list if the numbers are already in the list\n",
        "  for x in ami:\n",
        "    if x == b:\n",
        "      ami.clear()\n",
        "      return False\n",
        "  \n",
        "  #checking the amicable numbers\n",
        "  if a == c and a != b:\n",
        "    ami.extend([a,b]) #extending the list using the amicable number\n",
        "    return True \n",
        "  else:\n",
        "    return False\n",
        "\n",
        "#creation of lists\n",
        "divisors_1 = list()\n",
        "ami = list()\n",
        "\n",
        "#entering the numeber\n",
        "num = int(input(\"Enter a range : \"))\n",
        "\n",
        "#printing the amicable numbers\n",
        "print(\"The amicable number in the range of \" + str(num))\n",
        "for i in range(num):\n",
        "  if amicable(i):\n",
        "    for x in ami:\n",
        "      print(x, end = \" \")\n",
        "    print(\"\\n\")"
      ],
      "metadata": {
        "colab": {
          "base_uri": "https://localhost:8080/"
        },
        "id": "wlCnkd2Xbcul",
        "outputId": "6dcfa898-5c87-4fe7-ef10-f5eb31db6701"
      },
      "execution_count": null,
      "outputs": [
        {
          "output_type": "stream",
          "name": "stdout",
          "text": [
            "Enter a range : 4000\n",
            "The amicable number in the range of 4000\n",
            "220 284 \n",
            "\n",
            "1184 1210 \n",
            "\n",
            "2620 2924 \n",
            "\n"
          ]
        }
      ]
    },
    {
      "cell_type": "markdown",
      "source": [
        "12. Write a program which can filter odd numbers in a list by using filter function"
      ],
      "metadata": {
        "id": "NTyAhVot2bvp"
      }
    },
    {
      "cell_type": "code",
      "source": [
        "#code intuition from Applied Ai lectures\n",
        "def find_odd_number(a):\n",
        "  '''\n",
        "  This function finds the odd numbers\n",
        "  '''\n",
        "  if a % 2 != 0:\n",
        "    return a\n",
        "\n",
        "#Entering the number\n",
        "num = int(input(\"Enter the range of number : \"))\n",
        "\n",
        "#creating the number list\n",
        "number_list = range(0,num)\n",
        "\n",
        "#filtering the odd numbers\n",
        "odd_number = list(filter(find_odd_number, number_list))\n",
        "\n",
        "#printing the numbers\n",
        "print(\"The odd numbers in the range \" + str(num))\n",
        "for i in odd_number:\n",
        "  print(i, end = \" \")"
      ],
      "metadata": {
        "colab": {
          "base_uri": "https://localhost:8080/"
        },
        "id": "hOGOwgba269q",
        "outputId": "3468422c-17c3-4390-e2dc-1a0c8c138fd9"
      },
      "execution_count": null,
      "outputs": [
        {
          "output_type": "stream",
          "name": "stdout",
          "text": [
            "Enter the range of number : 56\n",
            "The odd numbers in the range 56\n",
            "1 3 5 7 9 11 13 15 17 19 21 23 25 27 29 31 33 35 37 39 41 43 45 47 49 51 53 55 "
          ]
        }
      ]
    },
    {
      "cell_type": "markdown",
      "source": [
        "13 Write a program which can map() to make a list whose elements are cube of elements in a given list"
      ],
      "metadata": {
        "id": "ZWf_xj-jMx9p"
      }
    },
    {
      "cell_type": "code",
      "source": [
        "#entering the range\n",
        "num = int(input(\"Enter the range : \"))\n",
        "\n",
        "#creating the list with the given range\n",
        "numbers = range(1, num+1)\n",
        "\n",
        "#cubbing the each element of the number\n",
        "cubed = list(map(lambda x : x**3, numbers))\n",
        "\n",
        "#printing the cubed number\n",
        "for i in cubed:\n",
        "  print(i, end = \" \")"
      ],
      "metadata": {
        "colab": {
          "base_uri": "https://localhost:8080/"
        },
        "id": "RJ6qBJ8PNvER",
        "outputId": "290a564f-8004-4c45-afab-3a51c498000d"
      },
      "execution_count": null,
      "outputs": [
        {
          "output_type": "stream",
          "name": "stdout",
          "text": [
            "Enter the range : 23\n",
            "1 8 27 64 125 216 343 512 729 1000 1331 1728 2197 2744 3375 4096 4913 5832 6859 8000 9261 10648 12167 "
          ]
        }
      ]
    },
    {
      "cell_type": "markdown",
      "source": [
        "14 Write a program which can map and filter to make a list whose elements are cube of even number in a given list"
      ],
      "metadata": {
        "id": "xine6T-zT_aj"
      }
    },
    {
      "cell_type": "code",
      "source": [
        "#Entering the range\n",
        "num = int(input(\"Enter the range : \"))\n",
        "\n",
        "#Creating the list of given range\n",
        "numbers = range(1, num+1)\n",
        "\n",
        "#filtering the even number\n",
        "even_number = list(filter(lambda x : (x % 2 == 0), numbers))\n",
        "\n",
        "#cubing the each even number\n",
        "cubed = list(map(lambda x : x**3, even_number))\n",
        "\n",
        "#printing the number\n",
        "for i in cubed:\n",
        "  print(i, end = \" \")"
      ],
      "metadata": {
        "colab": {
          "base_uri": "https://localhost:8080/"
        },
        "id": "49bCPEY0Urlt",
        "outputId": "c208ea1a-c924-475c-d5e2-fdbd56c90713"
      },
      "execution_count": null,
      "outputs": [
        {
          "output_type": "stream",
          "name": "stdout",
          "text": [
            "Enter the range : 22\n",
            "8 64 216 512 1000 1728 2744 4096 5832 8000 10648 "
          ]
        }
      ]
    }
  ]
}
